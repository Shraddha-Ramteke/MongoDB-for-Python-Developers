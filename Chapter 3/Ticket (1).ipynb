{
  "nbformat": 4,
  "nbformat_minor": 0,
  "metadata": {
    "colab": {
      "name": "Ticket.ipynb",
      "provenance": []
    },
    "kernelspec": {
      "name": "python3",
      "display_name": "Python 3"
    },
    "language_info": {
      "name": "python"
    }
  },
  "cells": [
    {
      "cell_type": "markdown",
      "source": [
        "# **Ticket: User Report**\n",
        "User Story\n",
        "\"As an administrator, I want to be able to view the top 20 users by their number of comments.\"\n",
        "\n",
        "# Task\n",
        "For this ticket, you'll be required to modify one method in db.py, most_active_commenters. This method produces a report of the 20 most frequent commenters on the MFlix site.\n",
        "\n",
        "# Hint\n",
        "This report is meant to be run from the backend by a manager that is very particular about the accuracy of data. Ensure that the read concern used in this read, avoids any potential document rollback. Remember to add the necessary changes in the pipeline to meet the requirements. More information can be found in the comments of the method.\n",
        "\n",
        "You can find examples of Aggregation with the Python driver in notebooks/basic_aggregation.ipynb.\n",
        "\n",
        "# MFlix Functionality\n",
        "Once this ticket is completed, users with database access can make users administrators. Administrators will be able to generate a user report listing top commenters.\n",
        "\n",
        "Testing and Running the Application\n",
        "\n",
        "You can run the unit tests for this ticket by running:\n",
        "\n",
        "pytest -m user_report\n",
        "\n",
        "Once the unit tests are passing, run the application with:\n",
        "\n",
        "python run.py\n",
        "\n",
        "Now proceed to the status page to run the full suite of integration tests and get your validation code.\n",
        "\n",
        "After passing the relevant tests, what is the validation code for User Report?\n",
        "# Answer: 5accad3272455e5db79e4dad\n",
        "\n",
        "\n",
        "\n",
        "---\n",
        "\n",
        "\n",
        "\n",
        "# **Ticket: Migration**\n",
        "# Task\n",
        "For this ticket, you'll be required to complete the command-line script located in the migrations directory of mflix called movie_last_updated_migration.py.\n",
        "\n",
        "Things always change, and a requirement has come down that the lastupdated value in each document of the movies collection needs to be stored as an ISODate rather than a String.\n",
        "\n",
        "Complete the script so it updates the values using the bulk API.\n",
        "\n",
        "To perform the migration, run the script:\n",
        "\n",
        "python movie_last_updated_migration.py\n",
        "\n",
        "You can find examples of Bulk Operations in notebooks/bulk_writes.ipynb.\n",
        "\n",
        "Testing and Running the Application\n",
        "\n",
        "You can run the unit tests for this ticket by running:\n",
        "\n",
        "pytest -m migration\n",
        "\n",
        "Once the unit tests are passing, run the application with:\n",
        "\n",
        "python run.py\n",
        "\n",
        "Now proceed to the status page to run the full suite of integration tests and get your validation code.\n",
        "\n",
        "After passing the relevant tests, what is the validation code for Migration?\n",
        "# Answer: 5ad9f6a64fec134d116fb06f"
      ],
      "metadata": {
        "id": "M39H5ybT96Tg"
      }
    }
  ]
}
{
  "nbformat": 4,
  "nbformat_minor": 0,
  "metadata": {
    "colab": {
      "name": "Admin Backend.ipynb",
      "provenance": []
    },
    "kernelspec": {
      "name": "python3",
      "display_name": "Python 3"
    },
    "language_info": {
      "name": "python"
    }
  },
  "cells": [
    {
      "cell_type": "markdown",
      "source": [
        "# **Problem**\n",
        "\n",
        "# Which of the following Read Concerns are valid in a 3-node replica set?\n",
        "- \"local\"\n",
        "- \"majority\"\n",
        "\n",
        "\n",
        "# Which of the following is true about bulk writes?\n",
        "- Bulk writes decrease the effect of latency on overall operation time. \n",
        "- By default, bulk writes are ordered.\n",
        "\n"
      ],
      "metadata": {
        "id": "W3JopE0A7dfN"
      }
    }
  ]
}
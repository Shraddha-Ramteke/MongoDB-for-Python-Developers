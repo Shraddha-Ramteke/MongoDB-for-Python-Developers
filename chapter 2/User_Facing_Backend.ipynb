{
  "nbformat": 4,
  "nbformat_minor": 0,
  "metadata": {
    "colab": {
      "name": "User-Facing Backend.ipynb",
      "provenance": []
    },
    "kernelspec": {
      "name": "python3",
      "display_name": "Python 3"
    },
    "language_info": {
      "name": "python"
    }
  },
  "cells": [
    {
      "cell_type": "markdown",
      "source": [
        "#**Problem**\n",
        "\n",
        "# 1. Which of the following aggregation stages have equivalent cursor methods?\n",
        "\n",
        "- $sort\n",
        "\n",
        "- $skip\n",
        "\n",
        "- $limit\n",
        "\n",
        "# 2. Which of the following is true about InsertOneResult?\n",
        "\n",
        "- It contains the ``_id`` of an inserted document.\n",
        "\n",
        "- It can tell us whether the operation was acknowledged by the server.\n",
        "\n",
        "# 3. Which of the following Write Concerns are valid in a 3-node replica set?\n",
        "\n",
        "- w:0 \n",
        "- w:1 \n",
        "- w: majority\n",
        "\n",
        "# 4. Which of the following are valid update operators in Pymongo?\n",
        "\n",
        "- \"$push\"\n",
        "\n",
        "- \"$set\"\n",
        "\n",
        "- \"$inc\"\n",
        "\n",
        "# 5. Why did we use a let expression with expressive $lookup, when joining the comments and the movies collection?\n",
        "\n",
        "- To use fields from the movies documents in the pipeline.\n",
        "\n",
        "# 6. Which of the following is true about deleting documents in Pymongo?\n",
        "\n",
        "- delete_many() can delete any number of documents. \n",
        "- DeleteResult objects contain the number of deleted documents. \n",
        "- delete_one() can only delete one document.\n"
      ],
      "metadata": {
        "id": "_axnw8nk2YQz"
      }
    }
  ]
}
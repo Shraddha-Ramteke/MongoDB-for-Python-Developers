{
  "nbformat": 4,
  "nbformat_minor": 0,
  "metadata": {
    "colab": {
      "name": "Resiliency.ipynb",
      "provenance": []
    },
    "kernelspec": {
      "name": "python3",
      "display_name": "Python 3"
    },
    "language_info": {
      "name": "python"
    }
  },
  "cells": [
    {
      "cell_type": "markdown",
      "source": [
        "# Problem\n",
        "\n",
        "# Which of the following are benefits of connection pooling?\n",
        "- New operations can be serviced with pre-existing connections, so a new connection doesn't have to be created each time.\n",
        "- A large influx of operations can be handled more quickly with a pool of existing connections.\n",
        "\n",
        "\n",
        "# When should you set a wtimeout?\n",
        "- When our application is using a Write Concern more durable than w: 1.\n",
        "\n",
        "\n",
        "# What of the following is true about Change Streams in Pymongo?\n",
        "- They can be used to log changes to a MongoDB collection.\n",
        "\n",
        "- They output cursors, which contain change event documents.\n",
        "\n",
        "- They accept pipelines, which can be used to filter output from the change stream.\n",
        "\n"
      ],
      "metadata": {
        "id": "-dMvjfoAAnY0"
      }
    }
  ]
}
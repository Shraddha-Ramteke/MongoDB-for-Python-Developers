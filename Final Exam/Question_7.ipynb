{
  "nbformat": 4,
  "nbformat_minor": 0,
  "metadata": {
    "colab": {
      "name": "Question 7.ipynb",
      "provenance": []
    },
    "kernelspec": {
      "name": "python3",
      "display_name": "Python 3"
    },
    "language_info": {
      "name": "python"
    }
  },
  "cells": [
    {
      "cell_type": "markdown",
      "source": [
        "# Assume a collection called people_heights with documents that look like this:\n",
        "\n",
        "{\n",
        "  \"name\": \"Ada\",\n",
        "  \"height\": 1.7\n",
        "}\n",
        "Which of the following queries will find only the 4th- and 5th-tallest people in the people_heights collection?\n",
        "\n",
        "# Answer : db.people_heights.find().sort(\"height\", -1).skip(3).limit(2)"
      ],
      "metadata": {
        "id": "Y83T7QzDRdrM"
      }
    }
  ]
}
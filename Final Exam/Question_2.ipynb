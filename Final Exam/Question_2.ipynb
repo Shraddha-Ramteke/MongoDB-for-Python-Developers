{
  "nbformat": 4,
  "nbformat_minor": 0,
  "metadata": {
    "colab": {
      "name": "Question 2.ipynb",
      "provenance": []
    },
    "kernelspec": {
      "name": "python3",
      "display_name": "Python 3"
    },
    "language_info": {
      "name": "python"
    }
  },
  "cells": [
    {
      "cell_type": "markdown",
      "source": [
        "# Consider a collection of phones called phones, used by a phone manufacturer to keep track of the phones currently in production.\n",
        "\n",
        "Each document in phones looks like this:\n",
        "\n",
        "\n",
        "COPY\n",
        "{\n",
        "  \"model\": 5,\n",
        "  \"date_issued\" : ISODate(\"2016-07-27T20:27:52.834Z\"),\n",
        "  \"software_version\": 4.8,\n",
        "  \"needs_to_update\": false\n",
        "}\n",
        "There is an update required for phones with software_version earlier than 4.0. Anyone still using a version older than 4.0 will be asked to update.\n",
        "\n",
        "The phone manufacturer wants to set the flag needs_to_update to true when the value of software_version is lower than 4.0. For example, a document like this one:\n",
        "\n",
        "{\n",
        "  \"model\": 5,\n",
        "  \"date_issued\" : ISODate(\"2014-03-04T14:23:43.123Z\"),\n",
        "  \"software_version\": 3.7,\n",
        "  \"needs_to_update\": false\n",
        "}\n",
        "Should be updated to look like this:\n",
        "\n",
        "{\n",
        "  \"model\": 5,\n",
        "  \"date_issued\" : ISODate(\"2014-03-04T14:23:43.123Z\"),\n",
        "  \"software_version\": 3.7,\n",
        "  \"needs_to_update\": true\n",
        "}\n",
        "Which of the following update statements will correctly perform this update?\n",
        "\n",
        "# Answer : db.phones.update_many( { \"software_version\": { \"$lt\": 4.0 } },\n",
        "#                        { \"$set\": { \"needs_to_update\": True } } )\n"
      ],
      "metadata": {
        "id": "4v7Zf1I3Ng9N"
      }
    }
  ]
}
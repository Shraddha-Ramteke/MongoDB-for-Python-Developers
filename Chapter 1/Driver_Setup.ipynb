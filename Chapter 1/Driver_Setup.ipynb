{
  "nbformat": 4,
  "nbformat_minor": 0,
  "metadata": {
    "colab": {
      "name": "Driver Setup.ipynb",
      "provenance": []
    },
    "kernelspec": {
      "name": "python3",
      "display_name": "Python 3"
    },
    "language_info": {
      "name": "python"
    }
  },
  "cells": [
    {
      "cell_type": "markdown",
      "source": [
        "In this chapter we're going to discuss and explore basic read operations, adding fuel protections, and how to handle different query predicates to allow searching our data set from the UI"
      ],
      "metadata": {
        "id": "QS8qDb8uxeGm"
      }
    },
    {
      "cell_type": "markdown",
      "source": [
        "The README.rst file contains detailed instructions for setting up your environment as well as information about the layout of the project.\n",
        "\n",
        "The data directory contains all of the source data we'll be using for the mflix application.\n",
        "\n",
        "The dotini file here will be modified and renamed by you in this course, and it's going to contain information so that the application can connect to your Atlas cluster, as well as other information that the application will use internal.\n",
        "\n",
        "There are two directories under the mflix directory-- api and build.\n",
        "\n",
        "Api contains some flask root handlers for the application, and build contains the front end application.\n",
        "\n",
        "Both of these are completed for you to allow you to focus solely on learning to use PyMongo with MongoDB.\n"
      ],
      "metadata": {
        "id": "ZclP3A8XyKuy"
      }
    },
    {
      "cell_type": "code",
      "execution_count": null,
      "metadata": {
        "id": "bg7GZbFMs8J4"
      },
      "outputs": [],
      "source": [
        ""
      ]
    }
  ]
}